{
 "cells": [
  {
   "cell_type": "code",
   "execution_count": null,
   "outputs": [],
   "source": [
    "from mock_interview_tests import *"
   ],
   "metadata": {
    "collapsed": false,
    "pycharm": {
     "name": "#%%\n"
    }
   }
  },
  {
   "cell_type": "markdown",
   "source": [
    "# Finding k-th smallest element in Binary Search Tree\n",
    "\n",
    "Given the `root` of a binary search tree, and an integer `k`, return the kth smallest value (1-indexed) of all the values of the nodes in the tree."
   ],
   "metadata": {
    "collapsed": false
   }
  },
  {
   "cell_type": "markdown",
   "id": "994ed2d7",
   "metadata": {},
   "source": [
    "**Example 1:**"
   ]
  },
  {
   "cell_type": "markdown",
   "id": "43e72be0",
   "metadata": {},
   "source": [
    "Input: `root = [3,1,4,null,2], k = 1`\n",
    "\n",
    "Output: `1`"
   ]
  },
  {
   "cell_type": "markdown",
   "id": "fe257903",
   "metadata": {},
   "source": [
    "**Example 2:**\n",
    "\n",
    "Input: `root = [5,3,6,2,4,null,null,1], k = 3`\n",
    "\n",
    "Output: `3`"
   ]
  },
  {
   "cell_type": "code",
   "execution_count": null,
   "id": "82639fce",
   "metadata": {},
   "outputs": [],
   "source": [
    "# Definition for a binary tree node.\n",
    "# class TreeNode:\n",
    "#     def __init__(self, val=0, left=None, right=None):\n",
    "#         self.data = val\n",
    "#         self.left = left\n",
    "#         self.right = right"
   ]
  },
  {
   "cell_type": "code",
   "execution_count": null,
   "id": "29df9dc9",
   "metadata": {},
   "outputs": [],
   "source": [
    "def kthSmallest(root, k):\n",
    "    # Your code goes here\n",
    "    pass"
   ]
  },
  {
   "cell_type": "code",
   "execution_count": null,
   "id": "275432a7",
   "metadata": {},
   "outputs": [],
   "source": [
    "# Test\n",
    "test_kth_smallest(kthSmallest)"
   ]
  },
  {
   "cell_type": "markdown",
   "source": [
    "------------\n",
    "\n",
    "Given an array of strings, return a list of lists where each list contains the strings that are anagrams of one another.\n",
    "\n",
    "**Example 1:**\n",
    "\n",
    "Input: `[\"abc\", \"abd\" \"cab\", \"bad\", \"bca\", \"acd\"]`\n",
    "\n",
    "Output: `[[\"abc\", \"cab\", \"bea\"] [\"abd\", \"bad\"], ['acd']]`\n",
    "\n",
    "**Example 2:**\n",
    "\n",
    "Input = `['msds']`\n",
    "\n",
    "Output = `[['msds']]`"
   ],
   "metadata": {
    "collapsed": false,
    "pycharm": {
     "name": "#%% md\n"
    }
   }
  },
  {
   "cell_type": "code",
   "source": [
    "def anagram_group(str_list):\n",
    "    # Code goes here\n",
    "    pass"
   ],
   "metadata": {
    "collapsed": false,
    "pycharm": {
     "name": "#%%\n"
    }
   },
   "execution_count": null,
   "outputs": []
  },
  {
   "cell_type": "code",
   "execution_count": null,
   "outputs": [],
   "source": [
    "# Test\n",
    "anagram_group_test(anagram_group)"
   ],
   "metadata": {
    "collapsed": false,
    "pycharm": {
     "name": "#%%\n"
    }
   }
  },
  {
   "cell_type": "markdown",
   "source": [
    "------------"
   ],
   "metadata": {
    "collapsed": false,
    "pycharm": {
     "name": "#%% md\n"
    }
   }
  },
  {
   "cell_type": "markdown",
   "source": [
    "# ML System Design"
   ],
   "metadata": {
    "collapsed": false,
    "pycharm": {
     "name": "#%% md\n"
    }
   }
  },
  {
   "cell_type": "markdown",
   "source": [
    "Walk me through how you would build a model to predict whether a particular Robinhood user will churn."
   ],
   "metadata": {
    "collapsed": false,
    "pycharm": {
     "name": "#%% md\n"
    }
   }
  },
  {
   "cell_type": "code",
   "execution_count": null,
   "outputs": [],
   "source": [],
   "metadata": {
    "collapsed": false,
    "pycharm": {
     "name": "#%%\n"
    }
   }
  }
 ],
 "metadata": {
  "kernelspec": {
   "display_name": "Python 3",
   "language": "python",
   "name": "python3"
  },
  "language_info": {
   "codemirror_mode": {
    "name": "ipython",
    "version": 3
   },
   "file_extension": ".py",
   "mimetype": "text/x-python",
   "name": "python",
   "nbconvert_exporter": "python",
   "pygments_lexer": "ipython3",
   "version": "3.9.7"
  }
 },
 "nbformat": 4,
 "nbformat_minor": 5
}